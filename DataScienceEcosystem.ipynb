{
 "cells": [
  {
   "cell_type": "markdown",
   "id": "8dc57a67-1db1-4f4c-b873-1c6f3d0b897d",
   "metadata": {},
   "source": [
    "# Data Science Tools and Ecosystem"
   ]
  },
  {
   "cell_type": "markdown",
   "id": "dcdd8c65-74b8-4257-87a5-2774534d190e",
   "metadata": {},
   "source": [
    "In this notebook, Data Science Tools and Ecosystem are summarized."
   ]
  },
  {
   "cell_type": "markdown",
   "id": "e1d50339-2372-4e69-b19c-e6beda8c288b",
   "metadata": {},
   "source": [
    "Some of the popular languages that Data Scientists use are:\n",
    "1. Python\n",
    "2. R\n",
    "3. Scala"
   ]
  },
  {
   "cell_type": "markdown",
   "id": "60227b33-fc7a-4f0a-818d-f34a145419b2",
   "metadata": {},
   "source": [
    "Some of the commonly used libraries used by Data Scientists include:\n",
    "1. Pandas\n",
    "2. Seaborn\n",
    "3. NumPy"
   ]
  },
  {
   "cell_type": "markdown",
   "id": "c8abca8a-f6d8-4a9c-997d-e35d06daa402",
   "metadata": {},
   "source": [
    "| Data Science Tools |\n",
    "|--------------------|\n",
    "| Jupyter |\n",
    "| RStudio |\n",
    "| Anaconda|"
   ]
  },
  {
   "cell_type": "markdown",
   "id": "90e09046-3c30-403f-96fa-644f09ebfc79",
   "metadata": {},
   "source": [
    "### Below are a few examples of evaluating arithmetic expressions in Python"
   ]
  },
  {
   "cell_type": "code",
   "execution_count": 4,
   "id": "6344e7c0-b6d2-44bf-b063-7d512ff8ba15",
   "metadata": {},
   "outputs": [
    {
     "data": {
      "text/plain": [
       "17"
      ]
     },
     "execution_count": 4,
     "metadata": {},
     "output_type": "execute_result"
    }
   ],
   "source": [
    "# This a simple arithmetic expression to mutiply then add integers\n",
    "(3*4)+5"
   ]
  },
  {
   "cell_type": "code",
   "execution_count": 8,
   "id": "4fc76175-2f00-4ef3-b43d-e5b62f34e215",
   "metadata": {},
   "outputs": [
    {
     "name": "stdout",
     "output_type": "stream",
     "text": [
      "The Minute is 200\n",
      " Hour is 3.0\n"
     ]
    }
   ],
   "source": [
    "# This will convert 200 minutes to hours by diving by 60\n",
    "print(\"The Minute is 200\")\n",
    "print(\" Hour is\", round(200/60,0))"
   ]
  },
  {
   "cell_type": "markdown",
   "id": "05f84353-9851-46b0-8028-3a038ca6a21f",
   "metadata": {},
   "source": [
    "## List popular languages for Data Science\n",
    "**Objectives:**\n",
    "- Python\n",
    "- R\n",
    "- Scala\n"
   ]
  },
  {
   "cell_type": "markdown",
   "id": "47f8fa51-b73f-4a25-87eb-b017ef5dc44b",
   "metadata": {},
   "source": [
    "## Author\n",
    "Jagadeesh"
   ]
  },
  {
   "cell_type": "code",
   "execution_count": null,
   "id": "11b76d40-d79f-4e96-a67e-7178256c1c16",
   "metadata": {},
   "outputs": [],
   "source": []
  }
 ],
 "metadata": {
  "kernelspec": {
   "display_name": "Python 3 (ipykernel)",
   "language": "python",
   "name": "python3"
  },
  "language_info": {
   "codemirror_mode": {
    "name": "ipython",
    "version": 3
   },
   "file_extension": ".py",
   "mimetype": "text/x-python",
   "name": "python",
   "nbconvert_exporter": "python",
   "pygments_lexer": "ipython3",
   "version": "3.8.10"
  }
 },
 "nbformat": 4,
 "nbformat_minor": 5
}
